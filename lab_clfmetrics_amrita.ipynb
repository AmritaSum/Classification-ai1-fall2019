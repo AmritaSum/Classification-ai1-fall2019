{
  "nbformat": 4,
  "nbformat_minor": 0,
  "metadata": {
    "kernelspec": {
      "name": "python3",
      "display_name": "Python 3"
    },
    "language_info": {
      "mimetype": "text/x-python",
      "nbconvert_exporter": "python",
      "name": "python",
      "file_extension": ".py",
      "version": "3.6.8",
      "pygments_lexer": "ipython3",
      "codemirror_mode": {
        "version": 3,
        "name": "ipython"
      }
    },
    "colab": {
      "name": "lab_clfmetrics.ipynb",
      "provenance": []
    },
    "accelerator": "GPU"
  },
  "cells": [
    {
      "cell_type": "markdown",
      "metadata": {
        "id": "FbQHZCWoCL8Q",
        "colab_type": "text"
      },
      "source": [
        "# Classification, Probabilities, and the Confusion Matrix"
      ]
    },
    {
      "cell_type": "code",
      "metadata": {
        "id": "vtJTLvGMCL8S",
        "colab_type": "code",
        "colab": {
          "base_uri": "https://localhost:8080/",
          "height": 171
        },
        "outputId": "0ebfc73f-0e84-47a2-a638-68f516dc736d"
      },
      "source": [
        "%matplotlib inline\n",
        "import numpy as np\n",
        "import scipy as sp\n",
        "import matplotlib as mpl\n",
        "import matplotlib.cm as cm\n",
        "import matplotlib.pyplot as plt\n",
        "import pandas as pd\n",
        "import seaborn.apionly as sns"
      ],
      "execution_count": 1,
      "outputs": [
        {
          "output_type": "stream",
          "text": [
            "/usr/local/lib/python3.6/dist-packages/matplotlib/__init__.py:855: MatplotlibDeprecationWarning: \n",
            "examples.directory is deprecated; in the future, examples will be found relative to the 'datapath' directory.\n",
            "  \"found relative to the 'datapath' directory.\".format(key))\n",
            "/usr/local/lib/python3.6/dist-packages/matplotlib/__init__.py:846: MatplotlibDeprecationWarning: \n",
            "The text.latex.unicode rcparam was deprecated in Matplotlib 2.2 and will be removed in 3.1.\n",
            "  \"2.2\", name=key, obj_type=\"rcparam\", addendum=addendum)\n",
            "/usr/local/lib/python3.6/dist-packages/seaborn/apionly.py:9: UserWarning: As seaborn no longer sets a default style on import, the seaborn.apionly module is deprecated. It will be removed in a future version.\n",
            "  warnings.warn(msg, UserWarning)\n"
          ],
          "name": "stderr"
        }
      ]
    },
    {
      "cell_type": "markdown",
      "metadata": {
        "id": "3GihcZodCL8W",
        "colab_type": "text"
      },
      "source": [
        "We are going to encapsulate some code into handy-dandy functions that we can use for easier model training using cross-validation"
      ]
    },
    {
      "cell_type": "code",
      "metadata": {
        "id": "hcZ0vTpwCL8W",
        "colab_type": "code",
        "colab": {}
      },
      "source": [
        "from sklearn.model_selection import GridSearchCV\n",
        "from sklearn.model_selection import train_test_split\n",
        "from sklearn.metrics import confusion_matrix\n",
        "from sklearn.preprocessing import StandardScaler\n",
        "def cv_optimize(clf, parameters, X, y, n_jobs=1, n_folds=5, score_func=None):\n",
        "    if score_func:\n",
        "        gs = GridSearchCV(clf, param_grid=parameters, cv=n_folds, n_jobs=n_jobs, scoring=score_func)\n",
        "    else:\n",
        "        gs = GridSearchCV(clf, param_grid=parameters, n_jobs=n_jobs, cv=n_folds)\n",
        "    gs.fit(X, y)\n",
        "    print(\"BEST\", gs.best_params_, gs.best_score_)\n",
        "    best = gs.best_estimator_\n",
        "    return best\n",
        "def do_classify(clf, parameters, indf, featurenames, targetname, target1val,mode=\"mask\", reuse_split=None, score_func=None, n_folds=5, n_jobs=1):\n",
        "    \"\"\"\n",
        "    Classification made simple (or is it more complex?)\n",
        "    THIS WORKS FOR 2 Class Classification problems only\n",
        "    parameters: parameter grid in the sklearn style\n",
        "    indf: dataframe you feed in\n",
        "    featurenames: list of columnames corresponding to features you want in your model\n",
        "    targetname: the column you want to use as target\n",
        "    target1val: the value of the \"targetname\" column\n",
        "    mode: mask or split. mask a boolean mask to choose train/test or\n",
        "        split a dictionary with keys Xtrain/Xtest/ytrain/ytest and values existing\n",
        "        training and test sets in the canonical form\n",
        "    reuse_split: the actual mask above or the actuall ditionary, depending upon which\n",
        "        modu you chose\n",
        "    score_func: this is from GridSearchCV\n",
        "    n_folds: cross val folds\n",
        "    n_jobs: mumber of processes to use in cross-validation\n",
        "    \n",
        "    We return classifier, and the train and test sets. We print accuracies\n",
        "    and the confusion matrix\n",
        "    \"\"\"\n",
        "    subdf=indf[featurenames]\n",
        "    X=subdf.values\n",
        "    y=(indf[targetname].values==target1val)*1\n",
        "    if mode==\"mask\":\n",
        "        print(\"using mask\")\n",
        "        mask=reuse_split\n",
        "        Xtrain, Xtest, ytrain, ytest = X[mask], X[~mask], y[mask], y[~mask]\n",
        "    else:\n",
        "        print(\"using reuse split\")\n",
        "        Xtrain, Xtest, ytrain, ytest = reuse_split['Xtrain'], reuse_split['Xtest'], reuse_split['ytrain'], reuse_split['ytest']\n",
        "    ss=StandardScaler().fit(Xtrain)\n",
        "    Xtrain=ss.transform(Xtrain)\n",
        "    Xtest=ss.transform(Xtest)\n",
        "    if parameters:\n",
        "        clf = cv_optimize(clf, parameters, Xtrain, ytrain, n_jobs=n_jobs, n_folds=n_folds, score_func=score_func)\n",
        "    clf=clf.fit(Xtrain, ytrain)\n",
        "    training_accuracy = clf.score(Xtrain, ytrain)\n",
        "    test_accuracy = clf.score(Xtest, ytest)\n",
        "    print(\"############# based on standard predict ################\")\n",
        "    print(\"Accuracy on training data: %0.2f\" % (training_accuracy))\n",
        "    print(\"Accuracy on test data:     %0.2f\" % (test_accuracy))\n",
        "    print(confusion_matrix(ytest, clf.predict(Xtest)))\n",
        "    print(\"########################################################\")\n",
        "    return clf, Xtrain, ytrain, Xtest, ytest"
      ],
      "execution_count": 0,
      "outputs": []
    },
    {
      "cell_type": "code",
      "metadata": {
        "id": "VWnAhDKGCL8Y",
        "colab_type": "code",
        "colab": {}
      },
      "source": [
        "from matplotlib.colors import ListedColormap\n",
        "cmap_light = ListedColormap(['#FFAAAA', '#AAFFAA', '#AAAAFF'])\n",
        "cmap_bold = ListedColormap(['#FF0000', '#00FF00', '#0000FF'])\n",
        "cm = plt.cm.RdBu\n",
        "cm_bright = ListedColormap(['#FF0000', '#0000FF'])\n",
        "\n",
        "def points_plot(ax, Xtr, Xte, ytr, yte, clf, mesh=True, colorscale=cmap_light, cdiscrete=cmap_bold, alpha=0.3, psize=10, zfunc=False):\n",
        "    h = .02\n",
        "    X=np.concatenate((Xtr, Xte))\n",
        "    x_min, x_max = X[:, 0].min() - .5, X[:, 0].max() + .5\n",
        "    y_min, y_max = X[:, 1].min() - .5, X[:, 1].max() + .5\n",
        "    xx, yy = np.meshgrid(np.linspace(x_min, x_max, 100),\n",
        "                         np.linspace(y_min, y_max, 100))\n",
        "\n",
        "    #plt.figure(figsize=(10,6))\n",
        "    if mesh:\n",
        "        if zfunc:\n",
        "            p0 = clf.predict_proba(np.c_[xx.ravel(), yy.ravel()])[:, 0]\n",
        "            p1 = clf.predict_proba(np.c_[xx.ravel(), yy.ravel()])[:, 1]\n",
        "            Z=zfunc(p0, p1)\n",
        "        else:\n",
        "            Z = clf.predict(np.c_[xx.ravel(), yy.ravel()])\n",
        "        Z = Z.reshape(xx.shape)\n",
        "        plt.pcolormesh(xx, yy, Z, cmap=cmap_light, alpha=alpha, axes=ax)\n",
        "    ax.scatter(Xtr[:, 0], Xtr[:, 1], c=ytr-1, cmap=cmap_bold, s=psize, alpha=alpha,edgecolor=\"k\")\n",
        "    # and testing points\n",
        "    yact=clf.predict(Xte)\n",
        "    ax.scatter(Xte[:, 0], Xte[:, 1], c=yte-1, cmap=cmap_bold, alpha=alpha, marker=\"s\", s=psize+10)\n",
        "    ax.set_xlim(xx.min(), xx.max())\n",
        "    ax.set_ylim(yy.min(), yy.max())\n",
        "    return ax,xx,yy"
      ],
      "execution_count": 0,
      "outputs": []
    },
    {
      "cell_type": "code",
      "metadata": {
        "id": "ivC4BeY6CL8a",
        "colab_type": "code",
        "colab": {}
      },
      "source": [
        "def points_plot_prob(ax, Xtr, Xte, ytr, yte, clf, colorscale=cmap_light, cdiscrete=cmap_bold, ccolor=cm, psize=10, alpha=0.1, prob=True):\n",
        "    ax,xx,yy = points_plot(ax, Xtr, Xte, ytr, yte, clf, mesh=False, colorscale=colorscale, cdiscrete=cdiscrete, psize=psize, alpha=alpha) \n",
        "    if prob:\n",
        "        Z = clf.predict_proba(np.c_[xx.ravel(), yy.ravel()])[:, 1]\n",
        "    else:\n",
        "        Z = clf.decision_function(np.c_[xx.ravel(), yy.ravel()])\n",
        "    Z = Z.reshape(xx.shape)\n",
        "    plt.contourf(xx, yy, Z, cmap=ccolor, alpha=.2, axes=ax)\n",
        "    cs2 = plt.contour(xx, yy, Z, cmap=ccolor, alpha=.6, axes=ax)\n",
        "    plt.clabel(cs2, fmt = '%2.1f', colors = 'k', fontsize=14)\n",
        "    return ax "
      ],
      "execution_count": 0,
      "outputs": []
    },
    {
      "cell_type": "markdown",
      "metadata": {
        "id": "0p4AQlwoCL8c",
        "colab_type": "text"
      },
      "source": [
        "## Setting up the data\n",
        "\n",
        "(I encountered this dataset in Conway, Drew, and John White. Machine learning for hackers. \" O'Reilly Media, Inc.\", 2012.)"
      ]
    },
    {
      "cell_type": "code",
      "metadata": {
        "id": "HlutK2SwCh-7",
        "colab_type": "code",
        "colab": {
          "resources": {
            "http://localhost:8080/nbextensions/google.colab/files.js": {
              "data": "Ly8gQ29weXJpZ2h0IDIwMTcgR29vZ2xlIExMQwovLwovLyBMaWNlbnNlZCB1bmRlciB0aGUgQXBhY2hlIExpY2Vuc2UsIFZlcnNpb24gMi4wICh0aGUgIkxpY2Vuc2UiKTsKLy8geW91IG1heSBub3QgdXNlIHRoaXMgZmlsZSBleGNlcHQgaW4gY29tcGxpYW5jZSB3aXRoIHRoZSBMaWNlbnNlLgovLyBZb3UgbWF5IG9idGFpbiBhIGNvcHkgb2YgdGhlIExpY2Vuc2UgYXQKLy8KLy8gICAgICBodHRwOi8vd3d3LmFwYWNoZS5vcmcvbGljZW5zZXMvTElDRU5TRS0yLjAKLy8KLy8gVW5sZXNzIHJlcXVpcmVkIGJ5IGFwcGxpY2FibGUgbGF3IG9yIGFncmVlZCB0byBpbiB3cml0aW5nLCBzb2Z0d2FyZQovLyBkaXN0cmlidXRlZCB1bmRlciB0aGUgTGljZW5zZSBpcyBkaXN0cmlidXRlZCBvbiBhbiAiQVMgSVMiIEJBU0lTLAovLyBXSVRIT1VUIFdBUlJBTlRJRVMgT1IgQ09ORElUSU9OUyBPRiBBTlkgS0lORCwgZWl0aGVyIGV4cHJlc3Mgb3IgaW1wbGllZC4KLy8gU2VlIHRoZSBMaWNlbnNlIGZvciB0aGUgc3BlY2lmaWMgbGFuZ3VhZ2UgZ292ZXJuaW5nIHBlcm1pc3Npb25zIGFuZAovLyBsaW1pdGF0aW9ucyB1bmRlciB0aGUgTGljZW5zZS4KCi8qKgogKiBAZmlsZW92ZXJ2aWV3IEhlbHBlcnMgZm9yIGdvb2dsZS5jb2xhYiBQeXRob24gbW9kdWxlLgogKi8KKGZ1bmN0aW9uKHNjb3BlKSB7CmZ1bmN0aW9uIHNwYW4odGV4dCwgc3R5bGVBdHRyaWJ1dGVzID0ge30pIHsKICBjb25zdCBlbGVtZW50ID0gZG9jdW1lbnQuY3JlYXRlRWxlbWVudCgnc3BhbicpOwogIGVsZW1lbnQudGV4dENvbnRlbnQgPSB0ZXh0OwogIGZvciAoY29uc3Qga2V5IG9mIE9iamVjdC5rZXlzKHN0eWxlQXR0cmlidXRlcykpIHsKICAgIGVsZW1lbnQuc3R5bGVba2V5XSA9IHN0eWxlQXR0cmlidXRlc1trZXldOwogIH0KICByZXR1cm4gZWxlbWVudDsKfQoKLy8gTWF4IG51bWJlciBvZiBieXRlcyB3aGljaCB3aWxsIGJlIHVwbG9hZGVkIGF0IGEgdGltZS4KY29uc3QgTUFYX1BBWUxPQURfU0laRSA9IDEwMCAqIDEwMjQ7Ci8vIE1heCBhbW91bnQgb2YgdGltZSB0byBibG9jayB3YWl0aW5nIGZvciB0aGUgdXNlci4KY29uc3QgRklMRV9DSEFOR0VfVElNRU9VVF9NUyA9IDMwICogMTAwMDsKCmZ1bmN0aW9uIF91cGxvYWRGaWxlcyhpbnB1dElkLCBvdXRwdXRJZCkgewogIGNvbnN0IHN0ZXBzID0gdXBsb2FkRmlsZXNTdGVwKGlucHV0SWQsIG91dHB1dElkKTsKICBjb25zdCBvdXRwdXRFbGVtZW50ID0gZG9jdW1lbnQuZ2V0RWxlbWVudEJ5SWQob3V0cHV0SWQpOwogIC8vIENhY2hlIHN0ZXBzIG9uIHRoZSBvdXRwdXRFbGVtZW50IHRvIG1ha2UgaXQgYXZhaWxhYmxlIGZvciB0aGUgbmV4dCBjYWxsCiAgLy8gdG8gdXBsb2FkRmlsZXNDb250aW51ZSBmcm9tIFB5dGhvbi4KICBvdXRwdXRFbGVtZW50LnN0ZXBzID0gc3RlcHM7CgogIHJldHVybiBfdXBsb2FkRmlsZXNDb250aW51ZShvdXRwdXRJZCk7Cn0KCi8vIFRoaXMgaXMgcm91Z2hseSBhbiBhc3luYyBnZW5lcmF0b3IgKG5vdCBzdXBwb3J0ZWQgaW4gdGhlIGJyb3dzZXIgeWV0KSwKLy8gd2hlcmUgdGhlcmUgYXJlIG11bHRpcGxlIGFzeW5jaHJvbm91cyBzdGVwcyBhbmQgdGhlIFB5dGhvbiBzaWRlIGlzIGdvaW5nCi8vIHRvIHBvbGwgZm9yIGNvbXBsZXRpb24gb2YgZWFjaCBzdGVwLgovLyBUaGlzIHVzZXMgYSBQcm9taXNlIHRvIGJsb2NrIHRoZSBweXRob24gc2lkZSBvbiBjb21wbGV0aW9uIG9mIGVhY2ggc3RlcCwKLy8gdGhlbiBwYXNzZXMgdGhlIHJlc3VsdCBvZiB0aGUgcHJldmlvdXMgc3RlcCBhcyB0aGUgaW5wdXQgdG8gdGhlIG5leHQgc3RlcC4KZnVuY3Rpb24gX3VwbG9hZEZpbGVzQ29udGludWUob3V0cHV0SWQpIHsKICBjb25zdCBvdXRwdXRFbGVtZW50ID0gZG9jdW1lbnQuZ2V0RWxlbWVudEJ5SWQob3V0cHV0SWQpOwogIGNvbnN0IHN0ZXBzID0gb3V0cHV0RWxlbWVudC5zdGVwczsKCiAgY29uc3QgbmV4dCA9IHN0ZXBzLm5leHQob3V0cHV0RWxlbWVudC5sYXN0UHJvbWlzZVZhbHVlKTsKICByZXR1cm4gUHJvbWlzZS5yZXNvbHZlKG5leHQudmFsdWUucHJvbWlzZSkudGhlbigodmFsdWUpID0+IHsKICAgIC8vIENhY2hlIHRoZSBsYXN0IHByb21pc2UgdmFsdWUgdG8gbWFrZSBpdCBhdmFpbGFibGUgdG8gdGhlIG5leHQKICAgIC8vIHN0ZXAgb2YgdGhlIGdlbmVyYXRvci4KICAgIG91dHB1dEVsZW1lbnQubGFzdFByb21pc2VWYWx1ZSA9IHZhbHVlOwogICAgcmV0dXJuIG5leHQudmFsdWUucmVzcG9uc2U7CiAgfSk7Cn0KCi8qKgogKiBHZW5lcmF0b3IgZnVuY3Rpb24gd2hpY2ggaXMgY2FsbGVkIGJldHdlZW4gZWFjaCBhc3luYyBzdGVwIG9mIHRoZSB1cGxvYWQKICogcHJvY2Vzcy4KICogQHBhcmFtIHtzdHJpbmd9IGlucHV0SWQgRWxlbWVudCBJRCBvZiB0aGUgaW5wdXQgZmlsZSBwaWNrZXIgZWxlbWVudC4KICogQHBhcmFtIHtzdHJpbmd9IG91dHB1dElkIEVsZW1lbnQgSUQgb2YgdGhlIG91dHB1dCBkaXNwbGF5LgogKiBAcmV0dXJuIHshSXRlcmFibGU8IU9iamVjdD59IEl0ZXJhYmxlIG9mIG5leHQgc3RlcHMuCiAqLwpmdW5jdGlvbiogdXBsb2FkRmlsZXNTdGVwKGlucHV0SWQsIG91dHB1dElkKSB7CiAgY29uc3QgaW5wdXRFbGVtZW50ID0gZG9jdW1lbnQuZ2V0RWxlbWVudEJ5SWQoaW5wdXRJZCk7CiAgaW5wdXRFbGVtZW50LmRpc2FibGVkID0gZmFsc2U7CgogIGNvbnN0IG91dHB1dEVsZW1lbnQgPSBkb2N1bWVudC5nZXRFbGVtZW50QnlJZChvdXRwdXRJZCk7CiAgb3V0cHV0RWxlbWVudC5pbm5lckhUTUwgPSAnJzsKCiAgY29uc3QgcGlja2VkUHJvbWlzZSA9IG5ldyBQcm9taXNlKChyZXNvbHZlKSA9PiB7CiAgICBpbnB1dEVsZW1lbnQuYWRkRXZlbnRMaXN0ZW5lcignY2hhbmdlJywgKGUpID0+IHsKICAgICAgcmVzb2x2ZShlLnRhcmdldC5maWxlcyk7CiAgICB9KTsKICB9KTsKCiAgY29uc3QgY2FuY2VsID0gZG9jdW1lbnQuY3JlYXRlRWxlbWVudCgnYnV0dG9uJyk7CiAgaW5wdXRFbGVtZW50LnBhcmVudEVsZW1lbnQuYXBwZW5kQ2hpbGQoY2FuY2VsKTsKICBjYW5jZWwudGV4dENvbnRlbnQgPSAnQ2FuY2VsIHVwbG9hZCc7CiAgY29uc3QgY2FuY2VsUHJvbWlzZSA9IG5ldyBQcm9taXNlKChyZXNvbHZlKSA9PiB7CiAgICBjYW5jZWwub25jbGljayA9ICgpID0+IHsKICAgICAgcmVzb2x2ZShudWxsKTsKICAgIH07CiAgfSk7CgogIC8vIENhbmNlbCB1cGxvYWQgaWYgdXNlciBoYXNuJ3QgcGlja2VkIGFueXRoaW5nIGluIHRpbWVvdXQuCiAgY29uc3QgdGltZW91dFByb21pc2UgPSBuZXcgUHJvbWlzZSgocmVzb2x2ZSkgPT4gewogICAgc2V0VGltZW91dCgoKSA9PiB7CiAgICAgIHJlc29sdmUobnVsbCk7CiAgICB9LCBGSUxFX0NIQU5HRV9USU1FT1VUX01TKTsKICB9KTsKCiAgLy8gV2FpdCBmb3IgdGhlIHVzZXIgdG8gcGljayB0aGUgZmlsZXMuCiAgY29uc3QgZmlsZXMgPSB5aWVsZCB7CiAgICBwcm9taXNlOiBQcm9taXNlLnJhY2UoW3BpY2tlZFByb21pc2UsIHRpbWVvdXRQcm9taXNlLCBjYW5jZWxQcm9taXNlXSksCiAgICByZXNwb25zZTogewogICAgICBhY3Rpb246ICdzdGFydGluZycsCiAgICB9CiAgfTsKCiAgaWYgKCFmaWxlcykgewogICAgcmV0dXJuIHsKICAgICAgcmVzcG9uc2U6IHsKICAgICAgICBhY3Rpb246ICdjb21wbGV0ZScsCiAgICAgIH0KICAgIH07CiAgfQoKICBjYW5jZWwucmVtb3ZlKCk7CgogIC8vIERpc2FibGUgdGhlIGlucHV0IGVsZW1lbnQgc2luY2UgZnVydGhlciBwaWNrcyBhcmUgbm90IGFsbG93ZWQuCiAgaW5wdXRFbGVtZW50LmRpc2FibGVkID0gdHJ1ZTsKCiAgZm9yIChjb25zdCBmaWxlIG9mIGZpbGVzKSB7CiAgICBjb25zdCBsaSA9IGRvY3VtZW50LmNyZWF0ZUVsZW1lbnQoJ2xpJyk7CiAgICBsaS5hcHBlbmQoc3BhbihmaWxlLm5hbWUsIHtmb250V2VpZ2h0OiAnYm9sZCd9KSk7CiAgICBsaS5hcHBlbmQoc3BhbigKICAgICAgICBgKCR7ZmlsZS50eXBlIHx8ICduL2EnfSkgLSAke2ZpbGUuc2l6ZX0gYnl0ZXMsIGAgKwogICAgICAgIGBsYXN0IG1vZGlmaWVkOiAkewogICAgICAgICAgICBmaWxlLmxhc3RNb2RpZmllZERhdGUgPyBmaWxlLmxhc3RNb2RpZmllZERhdGUudG9Mb2NhbGVEYXRlU3RyaW5nKCkgOgogICAgICAgICAgICAgICAgICAgICAgICAgICAgICAgICAgICAnbi9hJ30gLSBgKSk7CiAgICBjb25zdCBwZXJjZW50ID0gc3BhbignMCUgZG9uZScpOwogICAgbGkuYXBwZW5kQ2hpbGQocGVyY2VudCk7CgogICAgb3V0cHV0RWxlbWVudC5hcHBlbmRDaGlsZChsaSk7CgogICAgY29uc3QgZmlsZURhdGFQcm9taXNlID0gbmV3IFByb21pc2UoKHJlc29sdmUpID0+IHsKICAgICAgY29uc3QgcmVhZGVyID0gbmV3IEZpbGVSZWFkZXIoKTsKICAgICAgcmVhZGVyLm9ubG9hZCA9IChlKSA9PiB7CiAgICAgICAgcmVzb2x2ZShlLnRhcmdldC5yZXN1bHQpOwogICAgICB9OwogICAgICByZWFkZXIucmVhZEFzQXJyYXlCdWZmZXIoZmlsZSk7CiAgICB9KTsKICAgIC8vIFdhaXQgZm9yIHRoZSBkYXRhIHRvIGJlIHJlYWR5LgogICAgbGV0IGZpbGVEYXRhID0geWllbGQgewogICAgICBwcm9taXNlOiBmaWxlRGF0YVByb21pc2UsCiAgICAgIHJlc3BvbnNlOiB7CiAgICAgICAgYWN0aW9uOiAnY29udGludWUnLAogICAgICB9CiAgICB9OwoKICAgIC8vIFVzZSBhIGNodW5rZWQgc2VuZGluZyB0byBhdm9pZCBtZXNzYWdlIHNpemUgbGltaXRzLiBTZWUgYi82MjExNTY2MC4KICAgIGxldCBwb3NpdGlvbiA9IDA7CiAgICB3aGlsZSAocG9zaXRpb24gPCBmaWxlRGF0YS5ieXRlTGVuZ3RoKSB7CiAgICAgIGNvbnN0IGxlbmd0aCA9IE1hdGgubWluKGZpbGVEYXRhLmJ5dGVMZW5ndGggLSBwb3NpdGlvbiwgTUFYX1BBWUxPQURfU0laRSk7CiAgICAgIGNvbnN0IGNodW5rID0gbmV3IFVpbnQ4QXJyYXkoZmlsZURhdGEsIHBvc2l0aW9uLCBsZW5ndGgpOwogICAgICBwb3NpdGlvbiArPSBsZW5ndGg7CgogICAgICBjb25zdCBiYXNlNjQgPSBidG9hKFN0cmluZy5mcm9tQ2hhckNvZGUuYXBwbHkobnVsbCwgY2h1bmspKTsKICAgICAgeWllbGQgewogICAgICAgIHJlc3BvbnNlOiB7CiAgICAgICAgICBhY3Rpb246ICdhcHBlbmQnLAogICAgICAgICAgZmlsZTogZmlsZS5uYW1lLAogICAgICAgICAgZGF0YTogYmFzZTY0LAogICAgICAgIH0sCiAgICAgIH07CiAgICAgIHBlcmNlbnQudGV4dENvbnRlbnQgPQogICAgICAgICAgYCR7TWF0aC5yb3VuZCgocG9zaXRpb24gLyBmaWxlRGF0YS5ieXRlTGVuZ3RoKSAqIDEwMCl9JSBkb25lYDsKICAgIH0KICB9CgogIC8vIEFsbCBkb25lLgogIHlpZWxkIHsKICAgIHJlc3BvbnNlOiB7CiAgICAgIGFjdGlvbjogJ2NvbXBsZXRlJywKICAgIH0KICB9Owp9CgpzY29wZS5nb29nbGUgPSBzY29wZS5nb29nbGUgfHwge307CnNjb3BlLmdvb2dsZS5jb2xhYiA9IHNjb3BlLmdvb2dsZS5jb2xhYiB8fCB7fTsKc2NvcGUuZ29vZ2xlLmNvbGFiLl9maWxlcyA9IHsKICBfdXBsb2FkRmlsZXMsCiAgX3VwbG9hZEZpbGVzQ29udGludWUsCn07Cn0pKHNlbGYpOwo=",
              "ok": true,
              "headers": [
                [
                  "content-type",
                  "application/javascript"
                ]
              ],
              "status": 200,
              "status_text": ""
            }
          },
          "base_uri": "https://localhost:8080/",
          "height": 74
        },
        "outputId": "bfa1a384-0006-4afd-86b9-897ad145a02f"
      },
      "source": [
        "from google.colab import files\n",
        "uploaded= files.upload()\n"
      ],
      "execution_count": 5,
      "outputs": [
        {
          "output_type": "display_data",
          "data": {
            "text/html": [
              "\n",
              "     <input type=\"file\" id=\"files-98996cc6-55f9-40fb-acec-9a7adc95b6af\" name=\"files[]\" multiple disabled />\n",
              "     <output id=\"result-98996cc6-55f9-40fb-acec-9a7adc95b6af\">\n",
              "      Upload widget is only available when the cell has been executed in the\n",
              "      current browser session. Please rerun this cell to enable.\n",
              "      </output>\n",
              "      <script src=\"/nbextensions/google.colab/files.js\"></script> "
            ],
            "text/plain": [
              "<IPython.core.display.HTML object>"
            ]
          },
          "metadata": {
            "tags": []
          }
        },
        {
          "output_type": "stream",
          "text": [
            "Saving 01_heights_weights_genders.csv to 01_heights_weights_genders.csv\n"
          ],
          "name": "stdout"
        }
      ]
    },
    {
      "cell_type": "code",
      "metadata": {
        "id": "tJjdsRqWCL8d",
        "colab_type": "code",
        "colab": {
          "base_uri": "https://localhost:8080/",
          "height": 195
        },
        "outputId": "96ff3aa5-68c5-481c-f7ba-af1e8aea4d32"
      },
      "source": [
        "import io\n",
        "dfhw = pd.read_csv(io.BytesIO(uploaded['01_heights_weights_genders.csv']))\n",
        "\n",
        "dfhw.head()"
      ],
      "execution_count": 6,
      "outputs": [
        {
          "output_type": "execute_result",
          "data": {
            "text/html": [
              "<div>\n",
              "<style scoped>\n",
              "    .dataframe tbody tr th:only-of-type {\n",
              "        vertical-align: middle;\n",
              "    }\n",
              "\n",
              "    .dataframe tbody tr th {\n",
              "        vertical-align: top;\n",
              "    }\n",
              "\n",
              "    .dataframe thead th {\n",
              "        text-align: right;\n",
              "    }\n",
              "</style>\n",
              "<table border=\"1\" class=\"dataframe\">\n",
              "  <thead>\n",
              "    <tr style=\"text-align: right;\">\n",
              "      <th></th>\n",
              "      <th>Gender</th>\n",
              "      <th>Height</th>\n",
              "      <th>Weight</th>\n",
              "    </tr>\n",
              "  </thead>\n",
              "  <tbody>\n",
              "    <tr>\n",
              "      <th>0</th>\n",
              "      <td>Male</td>\n",
              "      <td>73.847017</td>\n",
              "      <td>241.893563</td>\n",
              "    </tr>\n",
              "    <tr>\n",
              "      <th>1</th>\n",
              "      <td>Male</td>\n",
              "      <td>68.781904</td>\n",
              "      <td>162.310473</td>\n",
              "    </tr>\n",
              "    <tr>\n",
              "      <th>2</th>\n",
              "      <td>Male</td>\n",
              "      <td>74.110105</td>\n",
              "      <td>212.740856</td>\n",
              "    </tr>\n",
              "    <tr>\n",
              "      <th>3</th>\n",
              "      <td>Male</td>\n",
              "      <td>71.730978</td>\n",
              "      <td>220.042470</td>\n",
              "    </tr>\n",
              "    <tr>\n",
              "      <th>4</th>\n",
              "      <td>Male</td>\n",
              "      <td>69.881796</td>\n",
              "      <td>206.349801</td>\n",
              "    </tr>\n",
              "  </tbody>\n",
              "</table>\n",
              "</div>"
            ],
            "text/plain": [
              "  Gender     Height      Weight\n",
              "0   Male  73.847017  241.893563\n",
              "1   Male  68.781904  162.310473\n",
              "2   Male  74.110105  212.740856\n",
              "3   Male  71.730978  220.042470\n",
              "4   Male  69.881796  206.349801"
            ]
          },
          "metadata": {
            "tags": []
          },
          "execution_count": 6
        }
      ]
    },
    {
      "cell_type": "markdown",
      "metadata": {
        "id": "R4dWUmuRCL8e",
        "colab_type": "text"
      },
      "source": [
        "We sample 500 points from 10,000, since we actually want to see trends clearly on the plots"
      ]
    },
    {
      "cell_type": "code",
      "metadata": {
        "id": "CQHDPNpACL8f",
        "colab_type": "code",
        "colab": {
          "base_uri": "https://localhost:8080/",
          "height": 34
        },
        "outputId": "15293308-bf9a-4922-c8fe-2a50616f9904"
      },
      "source": [
        "df=dfhw.sample(500, replace=False)\n",
        "np.sum(df.Gender==\"Male\")"
      ],
      "execution_count": 7,
      "outputs": [
        {
          "output_type": "execute_result",
          "data": {
            "text/plain": [
              "244"
            ]
          },
          "metadata": {
            "tags": []
          },
          "execution_count": 7
        }
      ]
    },
    {
      "cell_type": "markdown",
      "metadata": {
        "id": "15LrMZdwCL8h",
        "colab_type": "text"
      },
      "source": [
        "We split the data into training and test sets...and setup a mask so we can reuse these splits later"
      ]
    },
    {
      "cell_type": "code",
      "metadata": {
        "id": "hhmyxcM_CL8h",
        "colab_type": "code",
        "colab": {
          "base_uri": "https://localhost:8080/",
          "height": 50
        },
        "outputId": "078b4738-2aad-445e-c782-527357577eec"
      },
      "source": [
        "itrain, itest = train_test_split(range(df.shape[0]), train_size=0.6)\n",
        "mask=np.ones(df.shape[0], dtype='int')\n",
        "mask[itrain]=1\n",
        "mask[itest]=0\n",
        "mask = (mask==1)\n",
        "mask[:10]"
      ],
      "execution_count": 8,
      "outputs": [
        {
          "output_type": "execute_result",
          "data": {
            "text/plain": [
              "array([ True,  True,  True,  True,  True, False,  True, False, False,\n",
              "        True])"
            ]
          },
          "metadata": {
            "tags": []
          },
          "execution_count": 8
        }
      ]
    },
    {
      "cell_type": "markdown",
      "metadata": {
        "id": "zzMtLvxlCL8l",
        "colab_type": "text"
      },
      "source": [
        "## Logistic regression\n",
        "\n",
        "\n",
        "$$\n",
        "\\renewcommand{\\like}{{\\cal L}}\n",
        "\\renewcommand{\\loglike}{{\\ell}}\n",
        "\\renewcommand{\\err}{{\\cal E}}\n",
        "\\renewcommand{\\dat}{{\\cal D}}\n",
        "\\renewcommand{\\hyp}{{\\cal H}}\n",
        "\\renewcommand{\\Ex}[2]{E_{#1}[#2]}\n",
        "\\renewcommand{\\x}{{\\mathbf x}}\n",
        "\\renewcommand{\\v}[1]{{\\mathbf #1}}\n",
        "$$\n",
        "\n",
        "\n",
        "Previously, we saw the loss for Logistic regression and noted that it is a loss for probability estimation...and not a loss for making decisions. We'll go into these dual losses soon..\n",
        "\n",
        "$$R_{\\cal{D}}(h(x)) = -\\loglike = -log \\like = - log(P(y|\\v{x},\\v{w})).$$\n",
        "\n",
        "\n",
        "Thus\n",
        "\n",
        "\\begin{eqnarray*}\n",
        "R_{\\cal{D}}(h(x)) &=& -log\\left(\\prod_{y_i \\in \\cal{D}} h(\\v{w}\\cdot\\v{x_i})^{y_i} \\left(1 - h(\\v{w}\\cdot\\v{x_i}) \\right)^{(1-y_i)}\\right)\\\\\n",
        "                  &=& -\\sum_{y_i \\in \\cal{D}} log\\left(h(\\v{w}\\cdot\\v{x_i})^{y_i} \\left(1 - h(\\v{w}\\cdot\\v{x_i}) \\right)^{(1-y_i)}\\right)\\\\                  \n",
        "                  &=& -\\sum_{y_i \\in \\cal{D}} log\\,h(\\v{w}\\cdot\\v{x_i})^{y_i} + log\\,\\left(1 - h(\\v{w}\\cdot\\v{x_i}) \\right)^{(1-y_i)}\\\\\n",
        "                  &=& - \\sum_{y_i \\in \\cal{D}} \\left ( y_i log(h(\\v{w}\\cdot\\v{x})) + ( 1 - y_i) log(1 - h(\\v{w}\\cdot\\v{x})) \\right )\n",
        "\\end{eqnarray*}\n",
        "\n",
        "where\n",
        "\n",
        "$$h(z) = \\frac{1}{1 + e^{-z}}.$$\n",
        "\n"
      ]
    },
    {
      "cell_type": "markdown",
      "metadata": {
        "id": "aaT0sncBCL8l",
        "colab_type": "text"
      },
      "source": [
        "Notice that its L2 regularized.... by default"
      ]
    },
    {
      "cell_type": "code",
      "metadata": {
        "id": "9BozMu6GE9vR",
        "colab_type": "code",
        "colab": {}
      },
      "source": [
        "X_train=df.iloc[itrain][['Height','Weight']].values\n",
        "X_test=df.iloc[itest][['Height','Weight']].values\n",
        "y_train=1*(df.iloc[itrain]['Gender']=='Male')\n",
        "y_test=1*(df.iloc[itest]['Gender']=='Male')"
      ],
      "execution_count": 0,
      "outputs": []
    },
    {
      "cell_type": "code",
      "metadata": {
        "id": "5f4gZ6wEF3jC",
        "colab_type": "code",
        "colab": {
          "base_uri": "https://localhost:8080/",
          "height": 34
        },
        "outputId": "f67e1593-5ba4-43dd-fa39-9fb1b526c5aa"
      },
      "source": [
        "X_train.shape \n",
        "y_train.shape"
      ],
      "execution_count": 13,
      "outputs": [
        {
          "output_type": "execute_result",
          "data": {
            "text/plain": [
              "(300,)"
            ]
          },
          "metadata": {
            "tags": []
          },
          "execution_count": 13
        }
      ]
    },
    {
      "cell_type": "code",
      "metadata": {
        "id": "WZH01gQwEMfa",
        "colab_type": "code",
        "colab": {
          "base_uri": "https://localhost:8080/",
          "height": 154
        },
        "outputId": "586cd991-1555-45b9-9576-3c7204e9fc08"
      },
      "source": [
        "from sklearn.linear_model import LogisticRegression\n",
        "clf=LogisticRegression(C=10000)\n",
        "clf.fit(X_train,y_train)"
      ],
      "execution_count": 16,
      "outputs": [
        {
          "output_type": "stream",
          "text": [
            "/usr/local/lib/python3.6/dist-packages/sklearn/linear_model/logistic.py:432: FutureWarning: Default solver will be changed to 'lbfgs' in 0.22. Specify a solver to silence this warning.\n",
            "  FutureWarning)\n"
          ],
          "name": "stderr"
        },
        {
          "output_type": "execute_result",
          "data": {
            "text/plain": [
              "LogisticRegression(C=10000, class_weight=None, dual=False, fit_intercept=True,\n",
              "                   intercept_scaling=1, l1_ratio=None, max_iter=100,\n",
              "                   multi_class='warn', n_jobs=None, penalty='l2',\n",
              "                   random_state=None, solver='warn', tol=0.0001, verbose=0,\n",
              "                   warm_start=False)"
            ]
          },
          "metadata": {
            "tags": []
          },
          "execution_count": 16
        }
      ]
    },
    {
      "cell_type": "code",
      "metadata": {
        "id": "oo4g6v1UGzmB",
        "colab_type": "code",
        "colab": {}
      },
      "source": [
        "predictions=clf.predict(X_test)"
      ],
      "execution_count": 0,
      "outputs": []
    },
    {
      "cell_type": "code",
      "metadata": {
        "id": "4V4xD3t9G3fG",
        "colab_type": "code",
        "colab": {
          "base_uri": "https://localhost:8080/",
          "height": 1000
        },
        "outputId": "5ec3aeb2-2670-4c7e-c8b6-f541f074a71b"
      },
      "source": [
        "predictions-y_test"
      ],
      "execution_count": 21,
      "outputs": [
        {
          "output_type": "execute_result",
          "data": {
            "text/plain": [
              "1665    0\n",
              "8492    0\n",
              "3882    0\n",
              "7859    0\n",
              "7577    0\n",
              "2426    0\n",
              "4001    0\n",
              "9045    0\n",
              "6417    0\n",
              "674     0\n",
              "6278    0\n",
              "9582    0\n",
              "6823    0\n",
              "1860   -1\n",
              "7380    0\n",
              "353     0\n",
              "9810    0\n",
              "2816    0\n",
              "5346    0\n",
              "5177    0\n",
              "3726    0\n",
              "5529    0\n",
              "5981    0\n",
              "4129    0\n",
              "7435    0\n",
              "29     -1\n",
              "6936    0\n",
              "8016    1\n",
              "6263    0\n",
              "13      0\n",
              "       ..\n",
              "6580    0\n",
              "215     0\n",
              "7326    0\n",
              "6146    1\n",
              "5095    0\n",
              "6058    0\n",
              "2413    0\n",
              "4118    0\n",
              "7748    0\n",
              "7851    0\n",
              "3109   -1\n",
              "1560    0\n",
              "9867    0\n",
              "6620    0\n",
              "8851    0\n",
              "9795    0\n",
              "1310   -1\n",
              "8165    0\n",
              "4294    0\n",
              "4630    0\n",
              "6865    0\n",
              "6369    0\n",
              "1413    0\n",
              "9050    0\n",
              "9284    0\n",
              "392     0\n",
              "8283    1\n",
              "8604    1\n",
              "5618    0\n",
              "1109    0\n",
              "Name: Gender, Length: 200, dtype: int64"
            ]
          },
          "metadata": {
            "tags": []
          },
          "execution_count": 21
        }
      ]
    },
    {
      "cell_type": "code",
      "metadata": {
        "id": "ZNQ1CktCHO0G",
        "colab_type": "code",
        "colab": {
          "base_uri": "https://localhost:8080/",
          "height": 34
        },
        "outputId": "c0bee0c3-1412-4683-e06a-e41c88263949"
      },
      "source": [
        "np.mean(np.abs(predictions-y_test))"
      ],
      "execution_count": 22,
      "outputs": [
        {
          "output_type": "execute_result",
          "data": {
            "text/plain": [
              "0.095"
            ]
          },
          "metadata": {
            "tags": []
          },
          "execution_count": 22
        }
      ]
    },
    {
      "cell_type": "markdown",
      "metadata": {
        "id": "vH1GE2AGHej_",
        "colab_type": "text"
      },
      "source": [
        "**sam thing above can be done as indicator function**"
      ]
    },
    {
      "cell_type": "code",
      "metadata": {
        "id": "VNeliGpAHntZ",
        "colab_type": "code",
        "colab": {
          "base_uri": "https://localhost:8080/",
          "height": 34
        },
        "outputId": "59c85e37-11d9-469c-fb25-409382e37f90"
      },
      "source": [
        "clf.score(X_test,y_test)"
      ],
      "execution_count": 23,
      "outputs": [
        {
          "output_type": "execute_result",
          "data": {
            "text/plain": [
              "0.905"
            ]
          },
          "metadata": {
            "tags": []
          },
          "execution_count": 23
        }
      ]
    },
    {
      "cell_type": "code",
      "metadata": {
        "id": "Eslu3T25Hx-b",
        "colab_type": "code",
        "colab": {
          "base_uri": "https://localhost:8080/",
          "height": 34
        },
        "outputId": "c023e8b6-b2da-433e-cf34-4aaf28689959"
      },
      "source": [
        "from sklearn.metrics import accuracy_score\n",
        "accuracy_score(y_test,predictions)"
      ],
      "execution_count": 24,
      "outputs": [
        {
          "output_type": "execute_result",
          "data": {
            "text/plain": [
              "0.905"
            ]
          },
          "metadata": {
            "tags": []
          },
          "execution_count": 24
        }
      ]
    },
    {
      "cell_type": "code",
      "metadata": {
        "id": "MQd2CemHIdaX",
        "colab_type": "code",
        "colab": {
          "base_uri": "https://localhost:8080/",
          "height": 1000
        },
        "outputId": "c4d5c12d-74e1-467b-9886-ff48642ff8aa"
      },
      "source": [
        "clf.predict_proba(X_test)"
      ],
      "execution_count": 25,
      "outputs": [
        {
          "output_type": "execute_result",
          "data": {
            "text/plain": [
              "array([[7.70373668e-02, 9.22962633e-01],\n",
              "       [7.81484988e-01, 2.18515012e-01],\n",
              "       [8.60255443e-02, 9.13974456e-01],\n",
              "       [9.99970349e-01, 2.96509699e-05],\n",
              "       [9.29824660e-01, 7.01753395e-02],\n",
              "       [1.70756544e-03, 9.98292435e-01],\n",
              "       [2.83619719e-03, 9.97163803e-01],\n",
              "       [5.14916322e-01, 4.85083678e-01],\n",
              "       [5.88568012e-01, 4.11431988e-01],\n",
              "       [2.97642585e-03, 9.97023574e-01],\n",
              "       [9.49884674e-01, 5.01153265e-02],\n",
              "       [9.96925891e-01, 3.07410855e-03],\n",
              "       [6.76788069e-01, 3.23211931e-01],\n",
              "       [5.32415754e-01, 4.67584246e-01],\n",
              "       [7.94239949e-01, 2.05760051e-01],\n",
              "       [1.09488058e-02, 9.89051194e-01],\n",
              "       [9.92437153e-01, 7.56284669e-03],\n",
              "       [1.22885851e-02, 9.87711415e-01],\n",
              "       [9.98689570e-01, 1.31042956e-03],\n",
              "       [9.92906982e-01, 7.09301754e-03],\n",
              "       [2.06448460e-04, 9.99793552e-01],\n",
              "       [9.89974874e-01, 1.00251262e-02],\n",
              "       [9.99921049e-01, 7.89510766e-05],\n",
              "       [2.44570310e-01, 7.55429690e-01],\n",
              "       [9.87373486e-01, 1.26265139e-02],\n",
              "       [8.02192909e-01, 1.97807091e-01],\n",
              "       [9.99914115e-01, 8.58850149e-05],\n",
              "       [4.64402663e-01, 5.35597337e-01],\n",
              "       [9.22610872e-01, 7.73891284e-02],\n",
              "       [1.15590104e-02, 9.88440990e-01],\n",
              "       [9.98874735e-01, 1.12526547e-03],\n",
              "       [1.87155938e-04, 9.99812844e-01],\n",
              "       [5.37063451e-01, 4.62936549e-01],\n",
              "       [6.98126593e-01, 3.01873407e-01],\n",
              "       [9.41260209e-01, 5.87397907e-02],\n",
              "       [9.67443411e-01, 3.25565887e-02],\n",
              "       [9.97012385e-01, 2.98761469e-03],\n",
              "       [1.11279136e-04, 9.99888721e-01],\n",
              "       [1.67854400e-01, 8.32145600e-01],\n",
              "       [3.04297127e-02, 9.69570287e-01],\n",
              "       [9.99906079e-01, 9.39210365e-05],\n",
              "       [9.06060545e-01, 9.39394547e-02],\n",
              "       [9.99866597e-01, 1.33402692e-04],\n",
              "       [4.78330823e-05, 9.99952167e-01],\n",
              "       [2.23661170e-01, 7.76338830e-01],\n",
              "       [9.98072032e-01, 1.92796775e-03],\n",
              "       [2.07829176e-04, 9.99792171e-01],\n",
              "       [9.99500783e-01, 4.99217447e-04],\n",
              "       [1.02013603e-01, 8.97986397e-01],\n",
              "       [9.39288218e-01, 6.07117819e-02],\n",
              "       [1.64280489e-01, 8.35719511e-01],\n",
              "       [9.63665667e-01, 3.63343330e-02],\n",
              "       [1.35631627e-02, 9.86436837e-01],\n",
              "       [3.60314015e-04, 9.99639686e-01],\n",
              "       [9.99577053e-01, 4.22946660e-04],\n",
              "       [9.94865525e-01, 5.13447517e-03],\n",
              "       [4.92603266e-01, 5.07396734e-01],\n",
              "       [9.98897907e-01, 1.10209300e-03],\n",
              "       [8.54910415e-01, 1.45089585e-01],\n",
              "       [8.33674861e-01, 1.66325139e-01],\n",
              "       [7.77584044e-01, 2.22415956e-01],\n",
              "       [7.80496259e-04, 9.99219504e-01],\n",
              "       [8.46275697e-04, 9.99153724e-01],\n",
              "       [9.93971443e-01, 6.02855686e-03],\n",
              "       [9.86570321e-01, 1.34296789e-02],\n",
              "       [9.11304914e-01, 8.86950864e-02],\n",
              "       [9.70194952e-01, 2.98050482e-02],\n",
              "       [9.83543707e-01, 1.64562931e-02],\n",
              "       [9.99917995e-01, 8.20050878e-05],\n",
              "       [1.46874114e-01, 8.53125886e-01],\n",
              "       [9.77030943e-01, 2.29690565e-02],\n",
              "       [5.69733083e-01, 4.30266917e-01],\n",
              "       [9.36763381e-01, 6.32366189e-02],\n",
              "       [9.98754487e-01, 1.24551305e-03],\n",
              "       [4.08329708e-04, 9.99591670e-01],\n",
              "       [6.72148971e-02, 9.32785103e-01],\n",
              "       [9.74193319e-01, 2.58066806e-02],\n",
              "       [6.83144490e-02, 9.31685551e-01],\n",
              "       [3.51419048e-02, 9.64858095e-01],\n",
              "       [9.10201575e-01, 8.97984246e-02],\n",
              "       [1.43795932e-01, 8.56204068e-01],\n",
              "       [5.05738341e-02, 9.49426166e-01],\n",
              "       [1.29536395e-03, 9.98704636e-01],\n",
              "       [9.99283048e-01, 7.16952269e-04],\n",
              "       [9.99969067e-01, 3.09332127e-05],\n",
              "       [9.99955393e-01, 4.46074870e-05],\n",
              "       [1.92755533e-04, 9.99807244e-01],\n",
              "       [9.85301047e-01, 1.46989530e-02],\n",
              "       [4.50842876e-01, 5.49157124e-01],\n",
              "       [7.99696123e-01, 2.00303877e-01],\n",
              "       [9.83318452e-01, 1.66815484e-02],\n",
              "       [2.01864628e-01, 7.98135372e-01],\n",
              "       [7.44014106e-05, 9.99925599e-01],\n",
              "       [5.57937905e-01, 4.42062095e-01],\n",
              "       [9.93073664e-01, 6.92633608e-03],\n",
              "       [4.23750647e-01, 5.76249353e-01],\n",
              "       [9.99509851e-01, 4.90149374e-04],\n",
              "       [1.48930969e-03, 9.98510690e-01],\n",
              "       [3.29549528e-04, 9.99670450e-01],\n",
              "       [6.96693299e-04, 9.99303307e-01],\n",
              "       [1.91128826e-04, 9.99808871e-01],\n",
              "       [9.98400502e-01, 1.59949767e-03],\n",
              "       [5.14880372e-03, 9.94851196e-01],\n",
              "       [9.88793290e-01, 1.12067101e-02],\n",
              "       [4.20016405e-02, 9.57998360e-01],\n",
              "       [9.98386607e-01, 1.61339313e-03],\n",
              "       [3.29248630e-06, 9.99996708e-01],\n",
              "       [9.29501546e-01, 7.04984545e-02],\n",
              "       [9.97726738e-01, 2.27326167e-03],\n",
              "       [9.98629588e-01, 1.37041214e-03],\n",
              "       [6.70573368e-02, 9.32942663e-01],\n",
              "       [1.50594800e-04, 9.99849405e-01],\n",
              "       [1.76915816e-01, 8.23084184e-01],\n",
              "       [3.02989245e-03, 9.96970108e-01],\n",
              "       [9.98814644e-01, 1.18535578e-03],\n",
              "       [5.75393646e-01, 4.24606354e-01],\n",
              "       [2.37844689e-02, 9.76215531e-01],\n",
              "       [9.60950640e-01, 3.90493599e-02],\n",
              "       [9.13687556e-01, 8.63124442e-02],\n",
              "       [9.95889850e-01, 4.11015045e-03],\n",
              "       [9.92061284e-01, 7.93871605e-03],\n",
              "       [8.12231599e-01, 1.87768401e-01],\n",
              "       [4.34458235e-01, 5.65541765e-01],\n",
              "       [6.64074745e-01, 3.35925255e-01],\n",
              "       [9.08629618e-01, 9.13703816e-02],\n",
              "       [6.25173818e-02, 9.37482618e-01],\n",
              "       [8.91000076e-01, 1.08999924e-01],\n",
              "       [9.85444835e-01, 1.45551650e-02],\n",
              "       [2.61931284e-05, 9.99973807e-01],\n",
              "       [4.47795679e-02, 9.55220432e-01],\n",
              "       [1.11587305e-01, 8.88412695e-01],\n",
              "       [9.75416838e-01, 2.45831616e-02],\n",
              "       [9.00794787e-03, 9.90992052e-01],\n",
              "       [9.99820656e-01, 1.79344364e-04],\n",
              "       [1.97858040e-01, 8.02141960e-01],\n",
              "       [2.23637612e-04, 9.99776362e-01],\n",
              "       [7.01224139e-01, 2.98775861e-01],\n",
              "       [9.94294006e-01, 5.70599395e-03],\n",
              "       [9.28155653e-03, 9.90718443e-01],\n",
              "       [9.89579824e-01, 1.04201761e-02],\n",
              "       [9.99941264e-01, 5.87359333e-05],\n",
              "       [4.30566892e-04, 9.99569433e-01],\n",
              "       [4.39134815e-01, 5.60865185e-01],\n",
              "       [9.99892188e-01, 1.07811817e-04],\n",
              "       [7.31638537e-02, 9.26836146e-01],\n",
              "       [8.47310915e-01, 1.52689085e-01],\n",
              "       [1.40303222e-01, 8.59696778e-01],\n",
              "       [9.70856954e-01, 2.91430461e-02],\n",
              "       [3.36113540e-02, 9.66388646e-01],\n",
              "       [9.95625062e-01, 4.37493815e-03],\n",
              "       [9.61730570e-01, 3.82694303e-02],\n",
              "       [3.27991147e-02, 9.67200885e-01],\n",
              "       [8.95028740e-04, 9.99104971e-01],\n",
              "       [9.99234404e-01, 7.65596163e-04],\n",
              "       [1.58521839e-02, 9.84147816e-01],\n",
              "       [9.99318900e-01, 6.81100046e-04],\n",
              "       [4.45979713e-01, 5.54020287e-01],\n",
              "       [1.64339704e-03, 9.98356603e-01],\n",
              "       [9.94701521e-01, 5.29847947e-03],\n",
              "       [9.44049238e-01, 5.59507619e-02],\n",
              "       [6.20557554e-03, 9.93794424e-01],\n",
              "       [4.70601209e-01, 5.29398791e-01],\n",
              "       [9.91966728e-01, 8.03327170e-03],\n",
              "       [6.60531626e-01, 3.39468374e-01],\n",
              "       [9.99865395e-01, 1.34605227e-04],\n",
              "       [1.41892449e-01, 8.58107551e-01],\n",
              "       [7.73636404e-01, 2.26363596e-01],\n",
              "       [3.99640660e-04, 9.99600359e-01],\n",
              "       [9.95378344e-01, 4.62165609e-03],\n",
              "       [9.63941344e-01, 3.60586559e-02],\n",
              "       [9.98892792e-01, 1.10720779e-03],\n",
              "       [1.72502865e-05, 9.99982750e-01],\n",
              "       [9.70399112e-01, 2.96008877e-02],\n",
              "       [2.41504906e-01, 7.58495094e-01],\n",
              "       [9.18934290e-01, 8.10657103e-02],\n",
              "       [9.62235477e-01, 3.77645227e-02],\n",
              "       [1.38226427e-03, 9.98617736e-01],\n",
              "       [1.91235350e-04, 9.99808765e-01],\n",
              "       [9.50506726e-01, 4.94932739e-02],\n",
              "       [9.21494869e-01, 7.85051305e-02],\n",
              "       [6.35621910e-01, 3.64378090e-01],\n",
              "       [4.13512405e-02, 9.58648759e-01],\n",
              "       [8.10988999e-01, 1.89011001e-01],\n",
              "       [9.99912106e-01, 8.78944092e-05],\n",
              "       [9.98813645e-01, 1.18635520e-03],\n",
              "       [9.93305148e-01, 6.69485199e-03],\n",
              "       [8.21463939e-01, 1.78536061e-01],\n",
              "       [9.99688120e-01, 3.11880127e-04],\n",
              "       [1.71096242e-03, 9.98289038e-01],\n",
              "       [2.40211100e-01, 7.59788900e-01],\n",
              "       [7.69670028e-01, 2.30329972e-01],\n",
              "       [9.57559862e-01, 4.24401377e-02],\n",
              "       [5.75471942e-04, 9.99424528e-01],\n",
              "       [9.99156194e-01, 8.43805671e-04],\n",
              "       [8.00061505e-01, 1.99938495e-01],\n",
              "       [3.29637190e-04, 9.99670363e-01],\n",
              "       [4.17625545e-01, 5.82374455e-01],\n",
              "       [4.66745894e-01, 5.33254106e-01],\n",
              "       [9.47520176e-01, 5.24798244e-02],\n",
              "       [3.09639426e-03, 9.96903606e-01]])"
            ]
          },
          "metadata": {
            "tags": []
          },
          "execution_count": 25
        }
      ]
    },
    {
      "cell_type": "code",
      "metadata": {
        "id": "xg_POY38Mo_K",
        "colab_type": "code",
        "colab": {}
      },
      "source": [
        "?GridSearchCV"
      ],
      "execution_count": 0,
      "outputs": []
    },
    {
      "cell_type": "code",
      "metadata": {
        "id": "rUwlYD7jMa9Y",
        "colab_type": "code",
        "colab": {
          "base_uri": "https://localhost:8080/",
          "height": 235
        },
        "outputId": "84205bf7-0010-42aa-b8ac-70768d7f21c3"
      },
      "source": [
        "from sklearn.model_selection import GridSearchCV\n",
        "clf=LogisticRegression(solver=\"lbfgs\")\n",
        "parameters = {\"C\": [0.001, 0.01, 0.1, 1, 10, 100, 1000, 10000]}\n",
        "gs=GridSearchCV(clf,parameters, cv=5)\n",
        "gs.fit(X_train,y_train)"
      ],
      "execution_count": 28,
      "outputs": [
        {
          "output_type": "execute_result",
          "data": {
            "text/plain": [
              "GridSearchCV(cv=5, error_score='raise-deprecating',\n",
              "             estimator=LogisticRegression(C=1.0, class_weight=None, dual=False,\n",
              "                                          fit_intercept=True,\n",
              "                                          intercept_scaling=1, l1_ratio=None,\n",
              "                                          max_iter=100, multi_class='warn',\n",
              "                                          n_jobs=None, penalty='l2',\n",
              "                                          random_state=None, solver='lbfgs',\n",
              "                                          tol=0.0001, verbose=0,\n",
              "                                          warm_start=False),\n",
              "             iid='warn', n_jobs=None,\n",
              "             param_grid={'C': [0.001, 0.01, 0.1, 1, 10, 100, 1000, 10000]},\n",
              "             pre_dispatch='2*n_jobs', refit=True, return_train_score=False,\n",
              "             scoring=None, verbose=0)"
            ]
          },
          "metadata": {
            "tags": []
          },
          "execution_count": 28
        }
      ]
    },
    {
      "cell_type": "code",
      "metadata": {
        "id": "pTtd93i4NE9g",
        "colab_type": "code",
        "colab": {
          "base_uri": "https://localhost:8080/",
          "height": 34
        },
        "outputId": "e6f554c0-aa80-48b8-b574-6a8e1b6a1e71"
      },
      "source": [
        "gs.score(X_test,y_test)"
      ],
      "execution_count": 29,
      "outputs": [
        {
          "output_type": "execute_result",
          "data": {
            "text/plain": [
              "0.905"
            ]
          },
          "metadata": {
            "tags": []
          },
          "execution_count": 29
        }
      ]
    },
    {
      "cell_type": "code",
      "metadata": {
        "id": "XyfWM0eMNX95",
        "colab_type": "code",
        "colab": {
          "base_uri": "https://localhost:8080/",
          "height": 605
        },
        "outputId": "5c2b2b13-7acd-404c-c2d6-2397564facfb"
      },
      "source": [
        "gs.cv_results_"
      ],
      "execution_count": 30,
      "outputs": [
        {
          "output_type": "execute_result",
          "data": {
            "text/plain": [
              "{'mean_fit_time': array([0.00929508, 0.00881515, 0.00903406, 0.00868177, 0.00865326,\n",
              "        0.00864224, 0.00876498, 0.00881968]),\n",
              " 'mean_score_time': array([0.00057755, 0.00055737, 0.00049963, 0.00050588, 0.00050383,\n",
              "        0.00049   , 0.00050726, 0.00052857]),\n",
              " 'mean_test_score': array([0.90666667, 0.90666667, 0.90333333, 0.90333333, 0.90333333,\n",
              "        0.90333333, 0.90333333, 0.90333333]),\n",
              " 'param_C': masked_array(data=[0.001, 0.01, 0.1, 1, 10, 100, 1000, 10000],\n",
              "              mask=[False, False, False, False, False, False, False, False],\n",
              "        fill_value='?',\n",
              "             dtype=object),\n",
              " 'params': [{'C': 0.001},\n",
              "  {'C': 0.01},\n",
              "  {'C': 0.1},\n",
              "  {'C': 1},\n",
              "  {'C': 10},\n",
              "  {'C': 100},\n",
              "  {'C': 1000},\n",
              "  {'C': 10000}],\n",
              " 'rank_test_score': array([1, 1, 3, 3, 3, 3, 3, 3], dtype=int32),\n",
              " 'split0_test_score': array([0.8852459, 0.8852459, 0.8852459, 0.8852459, 0.8852459, 0.8852459,\n",
              "        0.8852459, 0.8852459]),\n",
              " 'split1_test_score': array([0.95081967, 0.95081967, 0.93442623, 0.93442623, 0.93442623,\n",
              "        0.93442623, 0.93442623, 0.93442623]),\n",
              " 'split2_test_score': array([0.86666667, 0.86666667, 0.86666667, 0.86666667, 0.86666667,\n",
              "        0.86666667, 0.86666667, 0.86666667]),\n",
              " 'split3_test_score': array([0.89830508, 0.89830508, 0.89830508, 0.89830508, 0.89830508,\n",
              "        0.89830508, 0.89830508, 0.89830508]),\n",
              " 'split4_test_score': array([0.93220339, 0.93220339, 0.93220339, 0.93220339, 0.93220339,\n",
              "        0.93220339, 0.93220339, 0.93220339]),\n",
              " 'std_fit_time': array([0.00179024, 0.00074368, 0.00057263, 0.00018448, 0.0005105 ,\n",
              "        0.0004439 , 0.00043614, 0.00050673]),\n",
              " 'std_score_time': array([1.02609507e-04, 7.98105472e-05, 2.12343034e-05, 2.21836413e-05,\n",
              "        2.15525121e-05, 2.08358742e-05, 4.05475920e-05, 5.31836985e-05]),\n",
              " 'std_test_score': array([0.03084958, 0.03084958, 0.02647408, 0.02647408, 0.02647408,\n",
              "        0.02647408, 0.02647408, 0.02647408])}"
            ]
          },
          "metadata": {
            "tags": []
          },
          "execution_count": 30
        }
      ]
    },
    {
      "cell_type": "code",
      "metadata": {
        "id": "9JPFy0lpNKXu",
        "colab_type": "code",
        "colab": {
          "base_uri": "https://localhost:8080/",
          "height": 34
        },
        "outputId": "e4223104-0338-47f0-b544-0dc839d52b72"
      },
      "source": [
        "gs.best_score_"
      ],
      "execution_count": 31,
      "outputs": [
        {
          "output_type": "execute_result",
          "data": {
            "text/plain": [
              "0.9066666666666666"
            ]
          },
          "metadata": {
            "tags": []
          },
          "execution_count": 31
        }
      ]
    },
    {
      "cell_type": "code",
      "metadata": {
        "id": "CySEb-kQCL8m",
        "colab_type": "code",
        "colab": {
          "base_uri": "https://localhost:8080/",
          "height": 205
        },
        "outputId": "fb533be2-452f-406a-c23a-ec55a0ebfb22"
      },
      "source": [
        "from sklearn.linear_model import LogisticRegression\n",
        "parameters = {\"C\": [0.001, 0.01, 0.1, 1, 10, 100, 1000, 10000]}\n",
        "clflog = LogisticRegression(solver='lbfgs')\n",
        "clflog, Xtrain, ytrain, Xtest, ytest=do_classify(clflog, parameters, df, ['Height','Weight'],'Gender', \"Male\", mode=\"mask\", reuse_split=mask)"
      ],
      "execution_count": 49,
      "outputs": [
        {
          "output_type": "stream",
          "text": [
            "using mask\n",
            "BEST {'C': 0.1} 0.92\n",
            "############# based on standard predict ################\n",
            "Accuracy on training data: 0.92\n",
            "Accuracy on test data:     0.91\n",
            "[[104  14]\n",
            " [  5  77]]\n",
            "########################################################\n"
          ],
          "name": "stdout"
        },
        {
          "output_type": "stream",
          "text": [
            "/usr/local/lib/python3.6/dist-packages/sklearn/model_selection/_search.py:814: DeprecationWarning: The default of the `iid` parameter will change from True to False in version 0.22 and will be removed in 0.24. This will change numeric results when test-set sizes are unequal.\n",
            "  DeprecationWarning)\n"
          ],
          "name": "stderr"
        }
      ]
    },
    {
      "cell_type": "markdown",
      "metadata": {
        "id": "VBZv98YBCL8o",
        "colab_type": "text"
      },
      "source": [
        "In `sklearn`, `clf.predict(test_data)` makes predictions on the assumption that a 0.5 probability threshold is the appropriate thing to do. Make predictions on the test set"
      ]
    },
    {
      "cell_type": "code",
      "metadata": {
        "id": "-rTkR2koCL8o",
        "colab_type": "code",
        "colab": {
          "base_uri": "https://localhost:8080/",
          "height": 185
        },
        "outputId": "6a50e5ac-15e5-46c1-c846-a40807ebd0d5"
      },
      "source": [
        "clflog.predict(Xtest)\n"
      ],
      "execution_count": 51,
      "outputs": [
        {
          "output_type": "execute_result",
          "data": {
            "text/plain": [
              "array([1, 0, 1, 1, 1, 1, 0, 0, 1, 0, 1, 0, 0, 0, 1, 1, 0, 1, 0, 0, 1, 1,\n",
              "       1, 1, 1, 1, 1, 1, 1, 1, 0, 1, 0, 1, 1, 0, 1, 0, 0, 1, 1, 0, 1, 0,\n",
              "       1, 0, 0, 0, 0, 1, 0, 1, 1, 1, 0, 0, 0, 0, 1, 0, 0, 0, 1, 0, 1, 1,\n",
              "       1, 0, 1, 1, 1, 1, 0, 0, 0, 0, 0, 1, 1, 0, 1, 0, 1, 0, 1, 0, 1, 0,\n",
              "       0, 1, 1, 1, 0, 0, 0, 0, 1, 0, 1, 1, 1, 0, 0, 0, 0, 1, 0, 0, 0, 1,\n",
              "       0, 1, 1, 0, 0, 1, 0, 0, 0, 0, 1, 1, 0, 0, 0, 0, 0, 1, 0, 0, 1, 1,\n",
              "       0, 0, 0, 0, 1, 1, 0, 1, 0, 0, 0, 0, 1, 0, 1, 0, 1, 0, 0, 0, 0, 1,\n",
              "       0, 1, 1, 1, 0, 0, 1, 0, 1, 0, 0, 1, 1, 0, 0, 0, 0, 0, 1, 0, 1, 0,\n",
              "       0, 1, 0, 1, 0, 0, 1, 0, 0, 1, 0, 1, 0, 0, 1, 0, 1, 1, 1, 1, 0, 0,\n",
              "       1, 0])"
            ]
          },
          "metadata": {
            "tags": []
          },
          "execution_count": 51
        }
      ]
    },
    {
      "cell_type": "markdown",
      "metadata": {
        "id": "wzsOGJs9CL8q",
        "colab_type": "text"
      },
      "source": [
        "In `sklearn`, `predict_proba` gives us the probabilities. Find the probabilities on the test set."
      ]
    },
    {
      "cell_type": "code",
      "metadata": {
        "id": "p3oJn5ilCL8q",
        "colab_type": "code",
        "colab": {}
      },
      "source": [
        "p=clflog.predict_proba(Xtest)"
      ],
      "execution_count": 0,
      "outputs": []
    },
    {
      "cell_type": "markdown",
      "metadata": {
        "id": "ns062c2hCL8s",
        "colab_type": "text"
      },
      "source": [
        "What do these probabilities correspond to? The second column (`[:,1]` in numpy parlance, google numpy indexing to understand the syntax) gives the probability that the sample is a 1 (or +ive), here Male.\n",
        "\n",
        "Make a histogram of these probabilities. Interpret them."
      ]
    },
    {
      "cell_type": "code",
      "metadata": {
        "id": "vz3UqMlECL8s",
        "colab_type": "code",
        "colab": {
          "base_uri": "https://localhost:8080/",
          "height": 353
        },
        "outputId": "9373105d-f8f8-4ff7-be29-0fdf76192e45"
      },
      "source": [
        "# your code here\n",
        "import matplotlib.pyplot as plt\n",
        "plt.hist(p[:,1])\n"
      ],
      "execution_count": 53,
      "outputs": [
        {
          "output_type": "execute_result",
          "data": {
            "text/plain": [
              "(array([55., 21., 12., 10., 12., 10., 12., 12., 15., 41.]),\n",
              " array([0.00426224, 0.10376983, 0.20327742, 0.302785  , 0.40229259,\n",
              "        0.50180018, 0.60130777, 0.70081535, 0.80032294, 0.89983053,\n",
              "        0.99933812]),\n",
              " <a list of 10 Patch objects>)"
            ]
          },
          "metadata": {
            "tags": []
          },
          "execution_count": 53
        },
        {
          "output_type": "display_data",
          "data": {
            "image/png": "[encoded data removed]",
            "text/plain": [
              "<Figure size 432x288 with 1 Axes>"
            ]
          },
          "metadata": {
            "tags": []
          }
        }
      ]
    },
    {
      "cell_type": "markdown",
      "metadata": {
        "id": "cUALh3hdCL8u",
        "colab_type": "text"
      },
      "source": [
        "Lots of sure females and sure males when you plot the probability of being a male. \n",
        "\n",
        "At this point you might want to see how this histogram looks in the 2 dimensional space of our predictors."
      ]
    },
    {
      "cell_type": "code",
      "metadata": {
        "id": "pT_mJjYBCL8u",
        "colab_type": "code",
        "colab": {
          "base_uri": "https://localhost:8080/",
          "height": 270
        },
        "outputId": "09483c89-a22c-4b2c-cf61-3b5fd474bbd0"
      },
      "source": [
        "Xtr=np.concatenate((Xtrain, Xtest))\n",
        "plt.figure()\n",
        "ax=plt.gca()\n",
        "with sns.plotting_context('poster'):\n",
        "    points_plot(ax, Xtrain, Xtest, ytrain, ytest, clflog);"
      ],
      "execution_count": 54,
      "outputs": [
        {
          "output_type": "display_data",
          "data": {
            "image/png": "[encoded data removed]",
            "text/plain": [
              "<Figure size 432x288 with 1 Axes>"
            ]
          },
          "metadata": {
            "tags": []
          }
        }
      ]
    },
    {
      "cell_type": "markdown",
      "metadata": {
        "id": "4jMh-YFMCL8w",
        "colab_type": "text"
      },
      "source": [
        "We can plot the probability contours: these are rather tight!"
      ]
    },
    {
      "cell_type": "code",
      "metadata": {
        "id": "CUQ4yW02CL8w",
        "colab_type": "code",
        "colab": {
          "base_uri": "https://localhost:8080/",
          "height": 304
        },
        "outputId": "4f084094-a1bd-4286-c5fa-9aecd56db55d"
      },
      "source": [
        "plt.figure()\n",
        "ax=plt.gca()\n",
        "points_plot(ax, Xtrain, Xtest, ytrain, ytest, clflog, mesh=False, alpha=0.001);\n",
        "points_plot_prob(ax, Xtrain, Xtest, ytrain, ytest, clflog);"
      ],
      "execution_count": 55,
      "outputs": [
        {
          "output_type": "stream",
          "text": [
            "/usr/local/lib/python3.6/dist-packages/matplotlib/contour.py:1000: UserWarning: The following kwargs were not used by contour: 'axes'\n",
            "  s)\n"
          ],
          "name": "stderr"
        },
        {
          "output_type": "display_data",
          "data": {
            "image/png": "[encoded data removed]",
            "text/plain": [
              "<Figure size 432x288 with 1 Axes>"
            ]
          },
          "metadata": {
            "tags": []
          }
        }
      ]
    },
    {
      "cell_type": "markdown",
      "metadata": {
        "id": "uihIOxjjCL8y",
        "colab_type": "text"
      },
      "source": [
        "The score function of the estimator is used to evaluate a parameter setting. These are the sklearn.metrics.accuracy_score for classification and sklearn.metrics.r2_score for regression. For some applications, other scoring functions are better suited (for example in unbalanced classification, the accuracy score is often uninformative). We can pass other scorers to `GridSearchCV`."
      ]
    },
    {
      "cell_type": "code",
      "metadata": {
        "id": "zQu3Af0zCL8y",
        "colab_type": "code",
        "colab": {
          "base_uri": "https://localhost:8080/",
          "height": 34
        },
        "outputId": "39190174-90cc-45ee-ddc9-be13f2e520b9"
      },
      "source": [
        "clflog.score(Xtest, ytest)"
      ],
      "execution_count": 43,
      "outputs": [
        {
          "output_type": "execute_result",
          "data": {
            "text/plain": [
              "0.91"
            ]
          },
          "metadata": {
            "tags": []
          },
          "execution_count": 43
        }
      ]
    },
    {
      "cell_type": "markdown",
      "metadata": {
        "id": "9LolewueCL80",
        "colab_type": "text"
      },
      "source": [
        "## The confusion Matrix"
      ]
    },
    {
      "cell_type": "markdown",
      "metadata": {
        "id": "LPva0aT0CL81",
        "colab_type": "text"
      },
      "source": [
        " A classifier will get some samples right, and some wrong. Generally we see which ones it gets right and which ones it gets wrong on the test set. There,\n",
        "\n",
        "- the samples that are +ive and the classifier predicts as +ive are called True Positives (TP)\n",
        "- the samples that are -ive and the classifier predicts (wrongly) as +ive are called False Positives (FP)\n",
        "- the samples that are -ive and the classifier predicts as -ive are called True Negatives (TN)\n",
        "- the samples that are +ive and the classifier predicts as -ive are called False Negatives (FN)\n",
        "\n",
        "A classifier produces a confusion matrix from these which lookslike this:\n",
        "\n",
        "![hwimages](https://github.com/AmritaSum/Classification-ai1-fall2019/blob/master/images/confusionmatrix.png?raw=1)\n",
        "\n",
        "\n",
        "IMPORTANT NOTE: In sklearn, to obtain the confusion matrix in the form above, always have the observed `y` first, i.e.: use as `confusion_matrix(y_true, y_pred)`"
      ]
    },
    {
      "cell_type": "code",
      "metadata": {
        "id": "npdH9347CL81",
        "colab_type": "code",
        "colab": {
          "base_uri": "https://localhost:8080/",
          "height": 50
        },
        "outputId": "82707e3a-2652-429b-f160-21db6a2b9cd5"
      },
      "source": [
        "confusion_matrix(ytest, clflog.predict(Xtest))"
      ],
      "execution_count": 65,
      "outputs": [
        {
          "output_type": "execute_result",
          "data": {
            "text/plain": [
              "array([[104,  14],\n",
              "       [  5,  77]])"
            ]
          },
          "metadata": {
            "tags": []
          },
          "execution_count": 65
        }
      ]
    },
    {
      "cell_type": "markdown",
      "metadata": {
        "id": "0GzXUEjeCL85",
        "colab_type": "text"
      },
      "source": [
        "Given these definitions, we typically calculate a few metrics for our classifier. First, the **True Positive Rate**:\n",
        "\n",
        "$$TPR = Recall = \\frac{TP}{OP} = \\frac{TP}{TP+FN},$$\n",
        "\n",
        "also called the Hit Rate: the fraction of observed positives (1s) the classifier gets right, or how many true positives were recalled. Maximizing the recall towards 1 means keeping down the false negative rate. In a classifier try to find cancer patients, this is the number we want to maximize.\n",
        "\n",
        "The **False Positive Rate** is defined as\n",
        "\n",
        "$$FPR = \\frac{FP}{ON} = \\frac{FP}{FP+TN},$$\n",
        "\n",
        "also called the False Alarm Rate, the fraction of observed negatives (0s) the classifier gets wrong. In general, you want this number to be low. Instead, you might want to maximize the\n",
        "**Precision**,which tells you how many of the predicted positive(1) hits were truly positive\n",
        "\n",
        "$$Precision = \\frac{TP}{PP} = \\frac{TP}{TP+FP}.$$\n",
        "\n",
        "Finally the **F1** score gives us the Harmonic Score of Precision and Recall. Many analysts will try and find a classifier that maximizes this score, since it tries to minimize both false positives and false negatives simultaneously, and is thus a bit more precise in what it is trying to do than the accuracy.\n",
        "\n",
        "$$F1 =  \\frac{2*Recall*Precision}{Recall + Precision}$$\n",
        "\n",
        "However, in a case like that of a cancer classifier, we will wish to minimize false nagatives at the expense of false positives: it is ok to send perfectly healthy patients for cancer folloup if that is the price we must pay for not missing any sick ones.\n",
        "\n",
        "`scikit-learn` helpfully gives us a classification report with all these numbers"
      ]
    },
    {
      "cell_type": "code",
      "metadata": {
        "id": "_CxofX36CL86",
        "colab_type": "code",
        "colab": {
          "base_uri": "https://localhost:8080/",
          "height": 168
        },
        "outputId": "b379f5c5-af46-49f4-e2c4-5e7742c12f6d"
      },
      "source": [
        "from sklearn.metrics import classification_report\n",
        "print(classification_report(ytest, clflog.predict(Xtest)))"
      ],
      "execution_count": 66,
      "outputs": [
        {
          "output_type": "stream",
          "text": [
            "              precision    recall  f1-score   support\n",
            "\n",
            "           0       0.95      0.88      0.92       118\n",
            "           1       0.85      0.94      0.89        82\n",
            "\n",
            "    accuracy                           0.91       200\n",
            "   macro avg       0.90      0.91      0.90       200\n",
            "weighted avg       0.91      0.91      0.91       200\n",
            "\n"
          ],
          "name": "stdout"
        }
      ]
    },
    {
      "cell_type": "markdown",
      "metadata": {
        "id": "Wic9c917CL8-",
        "colab_type": "text"
      },
      "source": [
        "#### The cancer doctor\n",
        "\n",
        "Do you really want to be setting a threshold of 0.5 probability to predict if a patient has cancer or not? The false negative problem: ie the chance you predict someone dosent have cancer who has cancer is much higher for such a threshold. You could kill someone by telling them not to get a biopsy. Why not play it safe and assume a much lower threshold: for eg, if the probability of 1(cancer) is greater than 0.05, we'll call it a 1.\n",
        "\n",
        "Write a function `t_repredict(est,t, Xtest)` which takes your classifier, a probability threshold, and a  features set in the canonical form, and returns a set of predictions."
      ]
    },
    {
      "cell_type": "code",
      "metadata": {
        "id": "0Zf-lupSCL9A",
        "colab_type": "code",
        "colab": {}
      },
      "source": [
        "# your code here\n",
        "def t_repredict(est,t,Xtest):\n",
        "  return 1*(clf.predict_proba(Xtest)[:,1]>=t)\n",
        "  "
      ],
      "execution_count": 0,
      "outputs": []
    },
    {
      "cell_type": "markdown",
      "metadata": {
        "id": "fEIJ9J8yCL9B",
        "colab_type": "text"
      },
      "source": [
        "Print the confusion matrix to see how the false negatives get suppressed?"
      ]
    },
    {
      "cell_type": "code",
      "metadata": {
        "id": "34cKhpkSCL9C",
        "colab_type": "code",
        "colab": {
          "base_uri": "https://localhost:8080/",
          "height": 303
        },
        "outputId": "48d6131b-c2b5-488a-ebcd-937b3e297977"
      },
      "source": [
        "# your code here\n",
        "confusion_matrix(ytest, t_repredict(clflog,0.05,Xtest))"
      ],
      "execution_count": 70,
      "outputs": [
        {
          "output_type": "error",
          "ename": "NotFittedError",
          "evalue": "ignored",
          "traceback": [
            "\u001b[0;31m---------------------------------------------------------------------------\u001b[0m",
            "\u001b[0;31mNotFittedError\u001b[0m                            Traceback (most recent call last)",
            "\u001b[0;32m<ipython-input-70-258a8171e72d>\u001b[0m in \u001b[0;36m<module>\u001b[0;34m()\u001b[0m\n\u001b[0;32m----> 1\u001b[0;31m \u001b[0mconfusion_matrix\u001b[0m\u001b[0;34m(\u001b[0m\u001b[0mytest\u001b[0m\u001b[0;34m,\u001b[0m \u001b[0mt_repredict\u001b[0m\u001b[0;34m(\u001b[0m\u001b[0mclflog\u001b[0m\u001b[0;34m,\u001b[0m\u001b[0;36m0.05\u001b[0m\u001b[0;34m,\u001b[0m\u001b[0mXtest\u001b[0m\u001b[0;34m)\u001b[0m\u001b[0;34m)\u001b[0m\u001b[0;34m\u001b[0m\u001b[0;34m\u001b[0m\u001b[0m\n\u001b[0m",
            "\u001b[0;32m<ipython-input-69-9ec916b462f7>\u001b[0m in \u001b[0;36mt_repredict\u001b[0;34m(est, t, Xtest)\u001b[0m\n\u001b[1;32m      1\u001b[0m \u001b[0;32mdef\u001b[0m \u001b[0mt_repredict\u001b[0m\u001b[0;34m(\u001b[0m\u001b[0mest\u001b[0m\u001b[0;34m,\u001b[0m\u001b[0mt\u001b[0m\u001b[0;34m,\u001b[0m\u001b[0mXtest\u001b[0m\u001b[0;34m)\u001b[0m\u001b[0;34m:\u001b[0m\u001b[0;34m\u001b[0m\u001b[0;34m\u001b[0m\u001b[0m\n\u001b[0;32m----> 2\u001b[0;31m   \u001b[0;32mreturn\u001b[0m \u001b[0;36m1\u001b[0m\u001b[0;34m*\u001b[0m\u001b[0;34m(\u001b[0m\u001b[0mclf\u001b[0m\u001b[0;34m.\u001b[0m\u001b[0mpredict_proba\u001b[0m\u001b[0;34m(\u001b[0m\u001b[0mXtest\u001b[0m\u001b[0;34m)\u001b[0m\u001b[0;34m[\u001b[0m\u001b[0;34m:\u001b[0m\u001b[0;34m,\u001b[0m\u001b[0;36m1\u001b[0m\u001b[0;34m]\u001b[0m\u001b[0;34m>=\u001b[0m\u001b[0mt\u001b[0m\u001b[0;34m)\u001b[0m\u001b[0;34m\u001b[0m\u001b[0;34m\u001b[0m\u001b[0m\n\u001b[0m\u001b[1;32m      3\u001b[0m \u001b[0;34m\u001b[0m\u001b[0m\n",
            "\u001b[0;32m/usr/local/lib/python3.6/dist-packages/sklearn/linear_model/logistic.py\u001b[0m in \u001b[0;36mpredict_proba\u001b[0;34m(self, X)\u001b[0m\n\u001b[1;32m   1646\u001b[0m         \"\"\"\n\u001b[1;32m   1647\u001b[0m         \u001b[0;32mif\u001b[0m \u001b[0;32mnot\u001b[0m \u001b[0mhasattr\u001b[0m\u001b[0;34m(\u001b[0m\u001b[0mself\u001b[0m\u001b[0;34m,\u001b[0m \u001b[0;34m\"coef_\"\u001b[0m\u001b[0;34m)\u001b[0m\u001b[0;34m:\u001b[0m\u001b[0;34m\u001b[0m\u001b[0;34m\u001b[0m\u001b[0m\n\u001b[0;32m-> 1648\u001b[0;31m             \u001b[0;32mraise\u001b[0m \u001b[0mNotFittedError\u001b[0m\u001b[0;34m(\u001b[0m\u001b[0;34m\"Call fit before prediction\"\u001b[0m\u001b[0;34m)\u001b[0m\u001b[0;34m\u001b[0m\u001b[0;34m\u001b[0m\u001b[0m\n\u001b[0m\u001b[1;32m   1649\u001b[0m \u001b[0;34m\u001b[0m\u001b[0m\n\u001b[1;32m   1650\u001b[0m         ovr = (self.multi_class in [\"ovr\", \"warn\"] or\n",
            "\u001b[0;31mNotFittedError\u001b[0m: Call fit before prediction"
          ]
        }
      ]
    },
    {
      "cell_type": "code",
      "metadata": {
        "id": "jsPG_55VVHvX",
        "colab_type": "code",
        "colab": {}
      },
      "source": [
        ""
      ],
      "execution_count": 0,
      "outputs": []
    }
  ]
}